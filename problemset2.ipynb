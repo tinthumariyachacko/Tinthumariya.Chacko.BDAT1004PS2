{
 "cells": [
  {
   "cell_type": "markdown",
   "id": "4fda3245",
   "metadata": {},
   "source": [
    "QUESTION1\n"
   ]
  },
  {
   "cell_type": "code",
   "execution_count": 2,
   "id": "12f91688",
   "metadata": {},
   "outputs": [
    {
     "name": "stdout",
     "output_type": "stream",
     "text": [
      "2\n",
      "4\n",
      "6\n",
      "6\n"
     ]
    }
   ],
   "source": [
    "a=0\n",
    "\n",
    "def b():\n",
    "    global a\n",
    "    a = c(a)\n",
    "    return a\n",
    "def c(a):\n",
    "    return a + 2\n",
    "\n",
    "print(b())\n",
    "print(b())\n",
    "print(b())\n",
    "print(a)"
   ]
  },
  {
   "cell_type": "markdown",
   "id": "e764cfa8",
   "metadata": {},
   "source": [
    "In the first b() call the global a is used which means when 0 is passed to c() from which the value a becomes 2 and b() returns 2\n",
    "The same process is followed in the second b() and the value of a becomes 4\n",
    "The same is repested in third b() call and the value becomes 6\n",
    "As the a used in b() is declared global so the value change of a is made to the global a.Therefore the final  value of a is 6.\n",
    "\n",
    "\n"
   ]
  },
  {
   "cell_type": "markdown",
   "id": "a66bc069",
   "metadata": {},
   "source": [
    "QUESTION2\n"
   ]
  },
  {
   "cell_type": "code",
   "execution_count": 13,
   "id": "348c565a",
   "metadata": {},
   "outputs": [
    {
     "data": {
      "text/plain": [
       "'file idterm.py not found '"
      ]
     },
     "execution_count": 13,
     "metadata": {},
     "output_type": "execute_result"
    }
   ],
   "source": [
    "def filelength(filename):\n",
    "    try:\n",
    "        open_file = open(filename, 'r')\n",
    "        file_data = open_file.read()\n",
    "        length_of_file = len(file_data)\n",
    "        open_file.close()\n",
    "        return length_of_file\n",
    "    except:\n",
    "        return \"file \"+ filename + \" not found \"\n",
    "\n",
    "filelength('idterm.py')\n"
   ]
  },
  {
   "cell_type": "markdown",
   "id": "2bbc549e",
   "metadata": {},
   "source": [
    "QUESTION4"
   ]
  },
  {
   "cell_type": "code",
   "execution_count": 15,
   "id": "1e18443d",
   "metadata": {},
   "outputs": [
    {
     "name": "stdout",
     "output_type": "stream",
     "text": [
      "1\n"
     ]
    }
   ],
   "source": [
    "def collatz(input):\n",
    "    \n",
    "    new_list = [input]\n",
    "    if input < 1:\n",
    "        return(\"Enter a positive integer\")\n",
    "    if input == 1:\n",
    "        return [1]\n",
    "    elif input % 2 == 0:\n",
    "        new_list.extend(collatz(int(input/2)))\n",
    "    else:\n",
    "        new_list.extend(collatz((input*3)+1))\n",
    "    return new_list\n",
    "    \n",
    "values = collatz(1)\n",
    "for value in values:\n",
    "    print(value)"
   ]
  },
  {
   "cell_type": "code",
   "execution_count": 16,
   "id": "aff91fc3",
   "metadata": {
    "scrolled": true
   },
   "outputs": [
    {
     "name": "stdout",
     "output_type": "stream",
     "text": [
      "10\n",
      "5\n",
      "16\n",
      "8\n",
      "4\n",
      "2\n",
      "1\n"
     ]
    }
   ],
   "source": [
    "values = collatz(10)\n",
    "for value in values:\n",
    "    print(value)"
   ]
  },
  {
   "cell_type": "markdown",
   "id": "6059a17a",
   "metadata": {},
   "source": [
    "QUESTION5"
   ]
  },
  {
   "cell_type": "code",
   "execution_count": 17,
   "id": "5b35dce8",
   "metadata": {},
   "outputs": [],
   "source": [
    "def binary(input):\n",
    "    if input<0:\n",
    "        return(\"Enter positive integer\")\n",
    "    \n",
    "    elif input >=1:\n",
    "        return((10*binary(int(input/2))) + (input%2))\n",
    "    else:\n",
    "        return 0"
   ]
  },
  {
   "cell_type": "code",
   "execution_count": 18,
   "id": "9c06f3e9",
   "metadata": {},
   "outputs": [
    {
     "data": {
      "text/plain": [
       "0"
      ]
     },
     "execution_count": 18,
     "metadata": {},
     "output_type": "execute_result"
    }
   ],
   "source": [
    "binary(0)"
   ]
  },
  {
   "cell_type": "code",
   "execution_count": 19,
   "id": "aa26ddd6",
   "metadata": {},
   "outputs": [
    {
     "data": {
      "text/plain": [
       "1"
      ]
     },
     "execution_count": 19,
     "metadata": {},
     "output_type": "execute_result"
    }
   ],
   "source": [
    "binary(1)"
   ]
  },
  {
   "cell_type": "code",
   "execution_count": 20,
   "id": "a9262be0",
   "metadata": {},
   "outputs": [
    {
     "data": {
      "text/plain": [
       "11"
      ]
     },
     "execution_count": 20,
     "metadata": {},
     "output_type": "execute_result"
    }
   ],
   "source": [
    "binary(3)"
   ]
  },
  {
   "cell_type": "code",
   "execution_count": 21,
   "id": "78792a8a",
   "metadata": {},
   "outputs": [
    {
     "data": {
      "text/plain": [
       "1001"
      ]
     },
     "execution_count": 21,
     "metadata": {},
     "output_type": "execute_result"
    }
   ],
   "source": [
    "binary(9)"
   ]
  },
  {
   "cell_type": "markdown",
   "id": "bba178a0",
   "metadata": {},
   "source": [
    "QUESTION9"
   ]
  },
  {
   "cell_type": "code",
   "execution_count": 24,
   "id": "186b1cad",
   "metadata": {},
   "outputs": [
    {
     "name": "stdout",
     "output_type": "stream",
     "text": [
      "['THE', 'QUICK', 'BROWN', 'FOX', 'JUMBS', 'OVER', 'THE', 'LAZY', 'DOG']\n",
      "['the', 'quick', 'brown', 'fox', 'jumbs', 'over', 'the', 'lazy', 'dog']\n",
      "[3, 5, 5, 3, 5, 4, 3, 4, 3]\n",
      "[['THE', 'the', 3], ['QUICK', 'quick', 5], ['BROWN', 'brown', 5], ['FOX', 'fox', 3], ['JUMBS', 'jumbs', 5], ['OVER', 'over', 4], ['THE', 'the', 3], ['LAZY', 'lazy', 4], ['DOG', 'dog', 3]]\n",
      "['quick', 'brown', 'jumbs', 'over', 'lazy']\n"
     ]
    }
   ],
   "source": [
    "words = ['The', 'quick', 'brown', 'fox','jumbs','over','the','lazy','dog']\n",
    "\n",
    "def upper(words):\n",
    "    upper_case_list = []\n",
    "    for word in words:\n",
    "        upper_case_list.append(word.upper())\n",
    "    return upper_case_list\n",
    "\n",
    "def lower(words):\n",
    "    lower_case_list = []\n",
    "    for word in words:\n",
    "        lower_case_list.append(word.lower())\n",
    "    return lower_case_list\n",
    "\n",
    "def length_of_words(words):\n",
    "    word_length_list = []\n",
    "    for word in words:\n",
    "        word_length_list.append(len(word))\n",
    "    return word_length_list\n",
    "def upper_lower_length_of_words (words):\n",
    "    final_list = []\n",
    "    upper_lower_length_of_words_list = []\n",
    "    for word in words:\n",
    "         upper_lower_length_of_words_list.clear()\n",
    "         upper_lower_length_of_words_list.append(word.upper())\n",
    "         upper_lower_length_of_words_list.append(word.lower())\n",
    "         upper_lower_length_of_words_list.append(len(word))\n",
    "         new_list = upper_lower_length_of_words_list.copy()\n",
    "         final_list.append(new_list)\n",
    "    return final_list\n",
    "\n",
    "def check_word_length(words):\n",
    "    word_length = []\n",
    "    for word in words:\n",
    "        if len(word) > 3:\n",
    "            word_length.append(word)\n",
    "    return word_length\n",
    "\n",
    "\n",
    "print(upper(words))\n",
    "print(lower(words))\n",
    "print(length_of_words(words))\n",
    "print( upper_lower_length_of_words(words))\n",
    "print(check_word_length(words))\n",
    "        "
   ]
  },
  {
   "cell_type": "markdown",
   "id": "2770f974",
   "metadata": {},
   "source": [
    "QUESTION3"
   ]
  },
  {
   "cell_type": "code",
   "execution_count": 15,
   "id": "bf419bb5",
   "metadata": {},
   "outputs": [
    {
     "name": "stdout",
     "output_type": "stream",
     "text": [
      "['doll', 'firetruck', 'kitten']\n"
     ]
    }
   ],
   "source": [
    "class Marsupial:\n",
    "    \n",
    "    new_list = []\n",
    "        \n",
    "    def __init__(self):\n",
    "        self.new_list = []\n",
    "        self.new_list.clear()\n",
    "        \n",
    "    def put_in_pouch(self, value):\n",
    "        new_list = []\n",
    "        self.new_list.append(value)\n",
    "        \n",
    "    def pouch_contents(self):\n",
    "         return self.new_list\n",
    "    \n",
    "m = Marsupial()\n",
    "m.put_in_pouch('doll')\n",
    "m.put_in_pouch('firetruck')\n",
    "m.put_in_pouch('kitten')\n",
    "print(m.pouch_contents())"
   ]
  },
  {
   "cell_type": "code",
   "execution_count": 6,
   "id": "970b143b",
   "metadata": {},
   "outputs": [
    {
     "ename": "NameError",
     "evalue": "name 'Marsupial' is not defined",
     "output_type": "error",
     "traceback": [
      "\u001b[1;31m---------------------------------------------------------------------------\u001b[0m",
      "\u001b[1;31mNameError\u001b[0m                                 Traceback (most recent call last)",
      "Input \u001b[1;32mIn [6]\u001b[0m, in \u001b[0;36m<cell line: 1>\u001b[1;34m()\u001b[0m\n\u001b[1;32m----> 1\u001b[0m \u001b[38;5;28;01mclass\u001b[39;00m \u001b[38;5;21;01mkangaroo\u001b[39;00m(\u001b[43mMarsupial\u001b[49m):\n\u001b[0;32m      3\u001b[0m     \u001b[38;5;28;01mdef\u001b[39;00m \u001b[38;5;21m__int__\u001b[39m(\u001b[38;5;28mself\u001b[39m,x,y):\n\u001b[0;32m      4\u001b[0m         \u001b[38;5;28mself\u001b[39m\u001b[38;5;241m.\u001b[39mnew_list \u001b[38;5;241m=\u001b[39m []\n",
      "\u001b[1;31mNameError\u001b[0m: name 'Marsupial' is not defined"
     ]
    }
   ],
   "source": [
    "class kangaroo(Marsupial):\n",
    "    \n",
    "    def __int__(self,x,y):\n",
    "        self.new_list = []\n",
    "        self.new_list.clear ()\n",
    "        self.x = x\n",
    "        self.y = y\n",
    "        \n",
    "    def __str__(self):\n",
    "        return(\"I am a kangaroo located at coordinates(\"+str(self.x)+\",\"+str(self.y)+\")\")\n",
    "    \n",
    "    def jump(self,dx,dy):\n",
    "        self.x = self.x + dx\n",
    "        self.y = self.y + dy\n",
    "        \n",
    "k = kangaroo()\n",
    "print(k)\n",
    "k.put_in_pouch('doll')\n",
    "k.put_in_pouch('firestruck')\n",
    "k.put_in_pouch('kitten')\n",
    "print(k.pouch_contents())\n",
    "k.jump(1,0)\n",
    "k.jump(1,0)\n",
    "k.jump(1,0)\n",
    "print(k)"
   ]
  },
  {
   "cell_type": "markdown",
   "id": "0526add9",
   "metadata": {},
   "source": [
    "QUESTION8"
   ]
  },
  {
   "cell_type": "code",
   "execution_count": null,
   "id": "0609b73d",
   "metadata": {},
   "outputs": [],
   "source": [
    "a = ''' SELECT [Temperature(C)] FROM database table;'''\n",
    "b = ''' SELECT DISTINCT City FROM database table;'''\n",
    "c = ''' SELECT * FROM database table WHERE Country = 'India';'''\n",
    "d = ''' SELECT * FROM database table WHERE Season ='Fall';'''\n",
    "e = ''' SELECT City, Country, Season FROM database table WHERE[Rainfall(mm)] BETWEEN 200 AND 400;'''\n",
    "f = ''' SELECT City,Country FROM database table WHERE [Temperature(C)] > 20 order by [Temperature(C)] asc;'''\n",
    "g = ''' SELECT sum([Rainfall(mm)]) FROM database table where CIty = 'Cairo';'''\n",
    "h = ''' SELECT Season, sum([Rainfall(mm)]) as total_rainfall FROM database table group by Season;'''"
   ]
  },
  {
   "cell_type": "markdown",
   "id": "0b246daf",
   "metadata": {},
   "source": [
    "QUESTION7"
   ]
  },
  {
   "cell_type": "code",
   "execution_count": 8,
   "id": "69e60082",
   "metadata": {},
   "outputs": [
    {
     "ename": "SyntaxError",
     "evalue": "invalid syntax (721887543.py, line 17)",
     "output_type": "error",
     "traceback": [
      "\u001b[1;36m  Input \u001b[1;32mIn [8]\u001b[1;36m\u001b[0m\n\u001b[1;33m    if_name_ ==\"__main__\":\u001b[0m\n\u001b[1;37m                             ^\u001b[0m\n\u001b[1;31mSyntaxError\u001b[0m\u001b[1;31m:\u001b[0m invalid syntax\n"
     ]
    }
   ],
   "source": [
    "urls = []\n",
    "\n",
    "def webdir(site):\n",
    "    r = requests.get(site)\n",
    "    s = BeautifulSoup(r.text,\"html.parser\")\n",
    "    for i in s.find_all(\"a\"):\n",
    "        href = i.attrs['href']\n",
    "        if href.startswith(\"/\"):\n",
    "            site = site+href\n",
    "            if site not in urls:\n",
    "                urls.append(site)\n",
    "                print(site)\n",
    "                #calling it self\n",
    "                webdir(site)\n",
    "#main function\n",
    "\n",
    "if_name_ ==\"__main__\":   \n",
    "    #website to be scrape\n",
    "site=\"http://reed.cs.depaul.edu/Iperkovic/csc242/test1.html\"\n",
    "  \n",
    "    #calling function\n",
    "    webdir(site)\n",
    "   \n",
    "    "
   ]
  },
  {
   "cell_type": "code",
   "execution_count": null,
   "id": "6bc66c31",
   "metadata": {},
   "outputs": [],
   "source": []
  }
 ],
 "metadata": {
  "kernelspec": {
   "display_name": "Python 3 (ipykernel)",
   "language": "python",
   "name": "python3"
  },
  "language_info": {
   "codemirror_mode": {
    "name": "ipython",
    "version": 3
   },
   "file_extension": ".py",
   "mimetype": "text/x-python",
   "name": "python",
   "nbconvert_exporter": "python",
   "pygments_lexer": "ipython3",
   "version": "3.9.12"
  }
 },
 "nbformat": 4,
 "nbformat_minor": 5
}
